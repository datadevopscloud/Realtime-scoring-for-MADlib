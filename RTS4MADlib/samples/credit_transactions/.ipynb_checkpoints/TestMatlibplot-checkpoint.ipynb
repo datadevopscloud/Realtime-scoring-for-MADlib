{
 "cells": [
  {
   "cell_type": "code",
   "execution_count": null,
   "metadata": {},
   "outputs": [],
   "source": [
    "import pandas as pd\n",
    "\n",
    "tweets = pd.read_csv(\"tweets.csv\")\n",
    "tweets.head()\n"
   ]
  },
  {
   "cell_type": "code",
   "execution_count": 3,
   "metadata": {},
   "outputs": [
    {
     "name": "stdout",
     "output_type": "stream",
     "text": [
      "trump                    119998\n",
      "clinton,trump             30521\n",
      "                          25429\n",
      "sanders                   25351\n",
      "clinton                   22746\n",
      "clinton,sanders            6044\n",
      "clinton,trump,sanders      4219\n",
      "trump,sanders              3172\n",
      "Name: candidate, dtype: int64\n"
     ]
    },
    {
     "data": {
      "image/png": "[encoded data removed]",
      "text/plain": [
       "<Figure size 432x288 with 1 Axes>"
      ]
     },
     "metadata": {
      "needs_background": "light"
     },
     "output_type": "display_data"
    },
    {
     "data": {
      "image/png": "[encoded data removed]",
      "text/plain": [
       "<Figure size 432x288 with 1 Axes>"
      ]
     },
     "metadata": {
      "needs_background": "light"
     },
     "output_type": "display_data"
    }
   ],
   "source": [
    "import matplotlib.pyplot as plt\n",
    "import numpy as np\n",
    "import pandas as pd\n",
    "from datetime import datetime\n",
    "\n",
    "%matplotlib inline\n",
    "\n",
    "def get_candidate(row):\n",
    "    candidates = []\n",
    "    text = row[\"text\"].lower()\n",
    "    if \"clinton\" in text or \"hillary\" in text:\n",
    "        candidates.append(\"clinton\")\n",
    "    if \"trump\" in text or \"donald\" in text:\n",
    "        candidates.append(\"trump\")\n",
    "    if \"sanders\" in text or \"bernie\" in text:\n",
    "        candidates.append(\"sanders\")\n",
    "    return \",\".join(candidates)\n",
    "\n",
    "\n",
    "\n",
    "tweets = pd.read_csv(\"tweets.csv\")\n",
    "tweets.head()\n",
    "tweets[\"candidate\"] = tweets.apply(get_candidate,axis=1)\n",
    "counts = tweets[\"candidate\"].value_counts()\n",
    "print (counts)\n",
    "plt.bar(range(len(counts)), counts)\n",
    "plt.show()\n",
    "\n",
    "\n",
    "tweets[\"created\"] = pd.to_datetime(tweets[\"created\"])\n",
    "tweets[\"user_created\"] = pd.to_datetime(tweets[\"user_created\"])\n",
    "\n",
    "tweets[\"user_age\"] = tweets[\"user_created\"].apply(lambda x: (datetime.now() - x).total_seconds() / 3600 / 24 / 365)\n",
    "plt.hist(tweets[\"user_age\"])\n",
    "plt.show()"
   ]
  },
  {
   "cell_type": "code",
   "execution_count": null,
   "metadata": {},
   "outputs": [],
   "source": []
  }
 ],
 "metadata": {
  "kernelspec": {
   "display_name": "Python 3",
   "language": "python",
   "name": "python3"
  },
  "language_info": {
   "codemirror_mode": {
    "name": "ipython",
    "version": 3
   },
   "file_extension": ".py",
   "mimetype": "text/x-python",
   "name": "python",
   "nbconvert_exporter": "python",
   "pygments_lexer": "ipython3",
   "version": "3.7.2"
  }
 },
 "nbformat": 4,
 "nbformat_minor": 2
}
